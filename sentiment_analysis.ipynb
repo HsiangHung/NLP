{
 "cells": [
  {
   "cell_type": "markdown",
   "metadata": {},
   "source": [
    "# **Sentiment Analysis**\n",
    "\n",
    "This note is to train 10000 samples using NLTK and Sklearn ML libraries and demonstrate how to build the sentiment model to identify whether the individual article is positive or negative."
   ]
  },
  {
   "cell_type": "code",
   "execution_count": 1,
   "metadata": {
    "collapsed": true
   },
   "outputs": [],
   "source": [
    "import nltk\n",
    "import random\n",
    "import string\n",
    "from nltk.corpus import movie_reviews\n",
    "from nltk.corpus import stopwords\n",
    "from nltk.stem import PorterStemmer"
   ]
  },
  {
   "cell_type": "code",
   "execution_count": 44,
   "metadata": {
    "collapsed": true
   },
   "outputs": [],
   "source": [
    "punctuations = set(string.punctuation)"
   ]
  },
  {
   "cell_type": "code",
   "execution_count": 40,
   "metadata": {
    "collapsed": false
   },
   "outputs": [],
   "source": [
    "stop_words = set(stopwords.words('English'))"
   ]
  },
  {
   "cell_type": "code",
   "execution_count": 55,
   "metadata": {
    "collapsed": true
   },
   "outputs": [],
   "source": [
    "ps = PorterStemmer()"
   ]
  },
  {
   "cell_type": "code",
   "execution_count": 191,
   "metadata": {
    "collapsed": false
   },
   "outputs": [
    {
     "name": "stdout",
     "output_type": "stream",
     "text": [
      "[('the whole thing plays out with the drowsy heaviness of synchronized swimmer wearing a wool wetsuit .', 0), (' . . . with \" the bourne identity \" we return to the more traditional action genre .', 1), ('there ought to be a directing license , so that ed burns can have his revoked .', 0), ('what was subtle and mystifying in the novella is now broad and farcical .', 0), (\"aside from being the funniest movie of the year , simone , andrew niccol's brilliant anti-hollywood satire , has a wickedly eccentric enchantment to it .\", 1)]\n"
     ]
    }
   ],
   "source": [
    "pos_doc = open('positive.txt','rb')\n",
    "neg_doc = open('negative.txt','rb')\n",
    "documents = []\n",
    "for review in pos_doc:\n",
    "    documents.append((review.decode('latin-1').rstrip(), 1))\n",
    "\n",
    "for review in neg_doc:\n",
    "    documents.append((review.decode('latin-1').rstrip(), 0))\n",
    "    \n",
    "random.shuffle(documents)\n",
    "\n",
    "print (documents[:5])\n"
   ]
  },
  {
   "cell_type": "markdown",
   "metadata": {},
   "source": [
    "## 1. Data preprocessing: normalizing, stemmed, removing stopwords and punctuations"
   ]
  },
  {
   "cell_type": "code",
   "execution_count": 172,
   "metadata": {
    "collapsed": false
   },
   "outputs": [
    {
     "name": "stdout",
     "output_type": "stream",
     "text": [
      "118228\n"
     ]
    }
   ],
   "source": [
    "all_corpus_words = []\n",
    "for review, category in documents:\n",
    "    words = [ps.stem(x.lower()) for x in nltk.word_tokenize(str(review))\n",
    "                     if x not in stop_words if x not in punctuations if x != \"''\"]\n",
    "    for word in words:\n",
    "        all_corpus_words.append(word)\n",
    "\n",
    "print (len(all_corpus_words))"
   ]
  },
  {
   "cell_type": "code",
   "execution_count": 173,
   "metadata": {
    "collapsed": false
   },
   "outputs": [],
   "source": [
    "all_corpus_words = nltk.FreqDist(all_corpus_words)"
   ]
  },
  {
   "cell_type": "code",
   "execution_count": 174,
   "metadata": {
    "collapsed": false
   },
   "outputs": [
    {
     "name": "stdout",
     "output_type": "stream",
     "text": [
      "14752\n"
     ]
    }
   ],
   "source": [
    "print (len(all_corpus_words))"
   ]
  },
  {
   "cell_type": "code",
   "execution_count": 187,
   "metadata": {
    "collapsed": false
   },
   "outputs": [
    {
     "data": {
      "text/plain": [
       "[(\"'s\", 3537),\n",
       " ('film', 1804),\n",
       " ('movi', 1547),\n",
       " (\"n't\", 940),\n",
       " ('like', 804),\n",
       " ('one', 763),\n",
       " ('--', 670),\n",
       " ('``', 655),\n",
       " ('make', 611),\n",
       " ('stori', 536)]"
      ]
     },
     "execution_count": 187,
     "metadata": {},
     "output_type": "execute_result"
    }
   ],
   "source": [
    "all_corpus_words.most_common(10)"
   ]
  },
  {
   "cell_type": "code",
   "execution_count": 176,
   "metadata": {
    "collapsed": false
   },
   "outputs": [
    {
     "name": "stdout",
     "output_type": "stream",
     "text": [
      "3000 [\"'s\", 'film', 'movi', \"n't\", 'like', 'one', '--', '``', 'make', 'stori']\n"
     ]
    }
   ],
   "source": [
    "word_features = [x for x,y in all_corpus_words.most_common(3000)]\n",
    "print (len(word_features), word_features[:10])"
   ]
  },
  {
   "cell_type": "markdown",
   "metadata": {},
   "source": [
    "## 2. Simple bag-of-words model\n",
    "\n",
    "### meaning features = 1/0, True/False"
   ]
  },
  {
   "cell_type": "code",
   "execution_count": 144,
   "metadata": {
    "collapsed": true
   },
   "outputs": [],
   "source": [
    "def get_features(review):\n",
    "    features = {}\n",
    "    review_words = set([x.lower() for x in nltk.word_tokenize(str(review)) \n",
    "                     if x not in stop_words if x not in punctuations])\n",
    "    for word in word_features:\n",
    "        features[word] = (word in review_words)\n",
    "    return features"
   ]
  },
  {
   "cell_type": "code",
   "execution_count": 177,
   "metadata": {
    "collapsed": false
   },
   "outputs": [],
   "source": [
    "allData = []\n",
    "for review, category in documents:\n",
    "    allData.append((get_features(review), category))"
   ]
  },
  {
   "cell_type": "code",
   "execution_count": 146,
   "metadata": {
    "collapsed": false
   },
   "outputs": [
    {
     "name": "stdout",
     "output_type": "stream",
     "text": [
      "10662\n"
     ]
    }
   ],
   "source": [
    "print (len(allData))"
   ]
  },
  {
   "cell_type": "code",
   "execution_count": 185,
   "metadata": {
    "collapsed": false
   },
   "outputs": [],
   "source": [
    "from sklearn.model_selection import train_test_split\n",
    "trainData, testData = train_test_split(allData, test_size=0.33)"
   ]
  },
  {
   "cell_type": "code",
   "execution_count": 151,
   "metadata": {
    "collapsed": false
   },
   "outputs": [
    {
     "name": "stdout",
     "output_type": "stream",
     "text": [
      "7143 3519\n"
     ]
    }
   ],
   "source": [
    "print (len(trainData), len(testData))"
   ]
  },
  {
   "cell_type": "markdown",
   "metadata": {},
   "source": [
    "# 3. NLTK Naive Bayes classifier training and testing"
   ]
  },
  {
   "cell_type": "code",
   "execution_count": 179,
   "metadata": {
    "collapsed": false
   },
   "outputs": [
    {
     "name": "stdout",
     "output_type": "stream",
     "text": [
      "Accuracy: 0.6706450696220517\n"
     ]
    }
   ],
   "source": [
    "classifier = nltk.NaiveBayesClassifier.train(trainData)\n",
    "print ('Accuracy:', nltk.classify.accuracy(classifier, testData))"
   ]
  },
  {
   "cell_type": "code",
   "execution_count": 182,
   "metadata": {
    "collapsed": false
   },
   "outputs": [
    {
     "name": "stdout",
     "output_type": "stream",
     "text": [
      "Accuracy: 0.670076726342711\n"
     ]
    }
   ],
   "source": [
    "classifier = nltk.NaiveBayesClassifier.train(trainData)\n",
    "print ('Accuracy:', nltk.classify.accuracy(classifier, testData))"
   ]
  },
  {
   "cell_type": "code",
   "execution_count": 184,
   "metadata": {
    "collapsed": false
   },
   "outputs": [
    {
     "name": "stdout",
     "output_type": "stream",
     "text": [
      "Accuracy: 0.6609832338732594\n"
     ]
    }
   ],
   "source": [
    "classifier = nltk.NaiveBayesClassifier.train(trainData)\n",
    "print ('Accuracy:', nltk.classify.accuracy(classifier, testData))"
   ]
  },
  {
   "cell_type": "code",
   "execution_count": 186,
   "metadata": {
    "collapsed": false
   },
   "outputs": [
    {
     "name": "stdout",
     "output_type": "stream",
     "text": [
      "Accuracy: 0.6572890025575447\n"
     ]
    }
   ],
   "source": [
    "classifier = nltk.NaiveBayesClassifier.train(trainData)\n",
    "print ('Accuracy:', nltk.classify.accuracy(classifier, testData))"
   ]
  },
  {
   "cell_type": "code",
   "execution_count": 188,
   "metadata": {
    "collapsed": false
   },
   "outputs": [
    {
     "data": {
      "text/plain": [
       "1"
      ]
     },
     "execution_count": 188,
     "metadata": {},
     "output_type": "execute_result"
    }
   ],
   "source": [
    "classifier.classify(get_features(documents[2][0]))"
   ]
  },
  {
   "cell_type": "code",
   "execution_count": 189,
   "metadata": {
    "collapsed": false
   },
   "outputs": [
    {
     "data": {
      "text/plain": [
       "1"
      ]
     },
     "execution_count": 189,
     "metadata": {},
     "output_type": "execute_result"
    }
   ],
   "source": [
    "classifier.classify(get_features(documents[2][1]))"
   ]
  },
  {
   "cell_type": "code",
   "execution_count": 190,
   "metadata": {
    "collapsed": false
   },
   "outputs": [
    {
     "name": "stdout",
     "output_type": "stream",
     "text": [
      "Most Informative Features\n",
      "                    dull = True                0 : 1      =     19.7 : 1.0\n",
      "                    loud = True                0 : 1      =     12.3 : 1.0\n",
      "                      tv = True                0 : 1      =     11.8 : 1.0\n",
      "                    flat = True                0 : 1      =     11.0 : 1.0\n",
      "                      90 = True                0 : 1      =     10.3 : 1.0\n",
      "                  warmth = True                1 : 0      =      9.7 : 1.0\n",
      "                    weak = True                0 : 1      =      9.6 : 1.0\n",
      "                    save = True                0 : 1      =      9.0 : 1.0\n",
      "                   vivid = True                1 : 0      =      8.4 : 1.0\n",
      "                mindless = True                0 : 1      =      8.3 : 1.0\n",
      "                     low = True                0 : 1      =      8.3 : 1.0\n",
      "                    warm = True                1 : 0      =      7.8 : 1.0\n",
      "                  stupid = True                0 : 1      =      7.8 : 1.0\n",
      "                    thin = True                0 : 1      =      7.8 : 1.0\n",
      "                   trite = True                0 : 1      =      7.0 : 1.0\n"
     ]
    }
   ],
   "source": [
    "classifier.show_most_informative_features(15)"
   ]
  },
  {
   "cell_type": "code",
   "execution_count": 201,
   "metadata": {
    "collapsed": true
   },
   "outputs": [],
   "source": [
    "from nltk.classify.scikitlearn import SklearnClassifier\n",
    "from sklearn.naive_bayes import MultinomialNB, GaussianNB, BernoulliNB"
   ]
  },
  {
   "cell_type": "code",
   "execution_count": 194,
   "metadata": {
    "collapsed": false
   },
   "outputs": [
    {
     "name": "stdout",
     "output_type": "stream",
     "text": [
      "MNB Accuracy: 0.6606990622335891\n"
     ]
    }
   ],
   "source": [
    "MNB_classifier = SklearnClassifier(MultinomialNB())\n",
    "MNB_classifier.train(trainData)\n",
    "print ('MNB Accuracy:', nltk.classify.accuracy(MNB_classifier, testData)) "
   ]
  },
  {
   "cell_type": "code",
   "execution_count": 196,
   "metadata": {
    "collapsed": false
   },
   "outputs": [
    {
     "name": "stdout",
     "output_type": "stream",
     "text": [
      "BNB Accuracy: 0.6564364876385337\n"
     ]
    }
   ],
   "source": [
    "BNB_classifier = SklearnClassifier(BernoulliNB())\n",
    "BNB_classifier.train(trainData)\n",
    "print ('BNB Accuracy:', nltk.classify.accuracy(BNB_classifier, testData)) "
   ]
  },
  {
   "cell_type": "markdown",
   "metadata": {},
   "source": [
    "## Others"
   ]
  },
  {
   "cell_type": "code",
   "execution_count": 200,
   "metadata": {
    "collapsed": true
   },
   "outputs": [],
   "source": [
    "from sklearn.svm import SVC, LinearSVC, NuSVC\n",
    "from sklearn.linear_model import LogisticRegression, SGDClassifier"
   ]
  },
  {
   "cell_type": "code",
   "execution_count": 199,
   "metadata": {
    "collapsed": false
   },
   "outputs": [
    {
     "name": "stdout",
     "output_type": "stream",
     "text": [
      "SVC Accuracy: 0.49843705598181304\n"
     ]
    }
   ],
   "source": [
    "SVC_classifier = SklearnClassifier(SVC())\n",
    "SVC_classifier.train(trainData)\n",
    "print ('SVC Accuracy:', nltk.classify.accuracy(SVC_classifier, testData)) "
   ]
  },
  {
   "cell_type": "code",
   "execution_count": 202,
   "metadata": {
    "collapsed": false
   },
   "outputs": [
    {
     "name": "stdout",
     "output_type": "stream",
     "text": [
      "Linear SVC Accuracy: 0.6544472861608411\n"
     ]
    }
   ],
   "source": [
    "LSVC_classifier = SklearnClassifier(LinearSVC())\n",
    "LSVC_classifier.train(trainData)\n",
    "print ('Linear SVC Accuracy:', nltk.classify.accuracy(LSVC_classifier, testData)) "
   ]
  },
  {
   "cell_type": "code",
   "execution_count": 204,
   "metadata": {
    "collapsed": false
   },
   "outputs": [
    {
     "name": "stdout",
     "output_type": "stream",
     "text": [
      "NU SVC Accuracy: 0.6337027564649048\n"
     ]
    }
   ],
   "source": [
    "NuSVC_classifier = SklearnClassifier(NuSVC())\n",
    "NuSVC_classifier.train(trainData)\n",
    "print ('NU SVC Accuracy:', nltk.classify.accuracy(NuSVC_classifier, testData)) "
   ]
  },
  {
   "cell_type": "code",
   "execution_count": 205,
   "metadata": {
    "collapsed": false
   },
   "outputs": [
    {
     "name": "stdout",
     "output_type": "stream",
     "text": [
      "Logsitic Regression Accuracy: 0.6652458084683148\n"
     ]
    }
   ],
   "source": [
    "LogReg_classifier = SklearnClassifier(LogisticRegression())\n",
    "LogReg_classifier.train(trainData)\n",
    "print ('Logsitic Regression Accuracy:', nltk.classify.accuracy(LogReg_classifier, testData)) "
   ]
  },
  {
   "cell_type": "code",
   "execution_count": 210,
   "metadata": {
    "collapsed": false
   },
   "outputs": [
    {
     "name": "stdout",
     "output_type": "stream",
     "text": [
      "SGD Regression Accuracy: 0.6354077863029269\n"
     ]
    }
   ],
   "source": [
    "SGD_classifier = SklearnClassifier(SGDClassifier())\n",
    "SGD_classifier.train(trainData)\n",
    "print ('SGD Regression Accuracy:', nltk.classify.accuracy(SGD_classifier, testData)) "
   ]
  },
  {
   "cell_type": "markdown",
   "metadata": {},
   "source": [
    "## Vote Classifer (majority)"
   ]
  },
  {
   "cell_type": "code",
   "execution_count": 206,
   "metadata": {
    "collapsed": true
   },
   "outputs": [],
   "source": [
    "from nltk.classify import ClassifierI\n",
    "from statistics import mode"
   ]
  },
  {
   "cell_type": "code",
   "execution_count": 219,
   "metadata": {
    "collapsed": true
   },
   "outputs": [],
   "source": [
    "class VoteClassifier(ClassifierI):\n",
    "    def __init__(self, *classifiers):\n",
    "        self._classifiers = classifiers\n",
    "        \n",
    "    def classify(self, features):\n",
    "        votes = []\n",
    "        for c in self._classifiers:\n",
    "            v = c.classify(features)\n",
    "            votes.append(v)\n",
    "        return mode(votes)\n",
    "    \n",
    "    def confidence(self, features):\n",
    "        votes = []\n",
    "        for c in self._classifiers:\n",
    "            v = c.classify(features)\n",
    "            votes.append(v)\n",
    "\n",
    "        choice_votes = votes.count(mode(votes))\n",
    "        conf = choice_votes / len(votes)\n",
    "        return conf"
   ]
  },
  {
   "cell_type": "code",
   "execution_count": 220,
   "metadata": {
    "collapsed": false
   },
   "outputs": [],
   "source": [
    "voted_classifier = VoteClassifier(classifier, MNB_classifier, BNB_classifier, \n",
    "                                  SVC_classifier, LSVC_classifier, NuSVC_classifier,\n",
    "                                 LogReg_classifier, SGD_classifier)"
   ]
  },
  {
   "cell_type": "code",
   "execution_count": 222,
   "metadata": {
    "collapsed": false
   },
   "outputs": [
    {
     "ename": "StatisticsError",
     "evalue": "no unique mode; found 2 equally common values",
     "output_type": "error",
     "traceback": [
      "\u001b[0;31m---------------------------------------------------------------------------\u001b[0m",
      "\u001b[0;31mStatisticsError\u001b[0m                           Traceback (most recent call last)",
      "\u001b[0;32m<ipython-input-222-024a39ec4185>\u001b[0m in \u001b[0;36m<module>\u001b[0;34m()\u001b[0m\n\u001b[0;32m----> 1\u001b[0;31m \u001b[0mprint\u001b[0m \u001b[0;34m(\u001b[0m\u001b[0;34m'voted classifier Accuracy:'\u001b[0m\u001b[0;34m,\u001b[0m \u001b[0mnltk\u001b[0m\u001b[0;34m.\u001b[0m\u001b[0mclassify\u001b[0m\u001b[0;34m.\u001b[0m\u001b[0maccuracy\u001b[0m\u001b[0;34m(\u001b[0m\u001b[0mvoted_classifier\u001b[0m\u001b[0;34m,\u001b[0m \u001b[0mtestData\u001b[0m\u001b[0;34m)\u001b[0m\u001b[0;34m)\u001b[0m\u001b[0;34m\u001b[0m\u001b[0m\n\u001b[0m",
      "\u001b[0;32m/Users/hhhung/anaconda/lib/python3.4/site-packages/nltk/classify/util.py\u001b[0m in \u001b[0;36maccuracy\u001b[0;34m(classifier, gold)\u001b[0m\n\u001b[1;32m     85\u001b[0m \u001b[0;34m\u001b[0m\u001b[0m\n\u001b[1;32m     86\u001b[0m \u001b[0;32mdef\u001b[0m \u001b[0maccuracy\u001b[0m\u001b[0;34m(\u001b[0m\u001b[0mclassifier\u001b[0m\u001b[0;34m,\u001b[0m \u001b[0mgold\u001b[0m\u001b[0;34m)\u001b[0m\u001b[0;34m:\u001b[0m\u001b[0;34m\u001b[0m\u001b[0m\n\u001b[0;32m---> 87\u001b[0;31m     \u001b[0mresults\u001b[0m \u001b[0;34m=\u001b[0m \u001b[0mclassifier\u001b[0m\u001b[0;34m.\u001b[0m\u001b[0mclassify_many\u001b[0m\u001b[0;34m(\u001b[0m\u001b[0;34m[\u001b[0m\u001b[0mfs\u001b[0m \u001b[0;32mfor\u001b[0m \u001b[0;34m(\u001b[0m\u001b[0mfs\u001b[0m\u001b[0;34m,\u001b[0m \u001b[0ml\u001b[0m\u001b[0;34m)\u001b[0m \u001b[0;32min\u001b[0m \u001b[0mgold\u001b[0m\u001b[0;34m]\u001b[0m\u001b[0;34m)\u001b[0m\u001b[0;34m\u001b[0m\u001b[0m\n\u001b[0m\u001b[1;32m     88\u001b[0m     \u001b[0mcorrect\u001b[0m \u001b[0;34m=\u001b[0m \u001b[0;34m[\u001b[0m\u001b[0ml\u001b[0m \u001b[0;34m==\u001b[0m \u001b[0mr\u001b[0m \u001b[0;32mfor\u001b[0m \u001b[0;34m(\u001b[0m\u001b[0;34m(\u001b[0m\u001b[0mfs\u001b[0m\u001b[0;34m,\u001b[0m \u001b[0ml\u001b[0m\u001b[0;34m)\u001b[0m\u001b[0;34m,\u001b[0m \u001b[0mr\u001b[0m\u001b[0;34m)\u001b[0m \u001b[0;32min\u001b[0m \u001b[0mzip\u001b[0m\u001b[0;34m(\u001b[0m\u001b[0mgold\u001b[0m\u001b[0;34m,\u001b[0m \u001b[0mresults\u001b[0m\u001b[0;34m)\u001b[0m\u001b[0;34m]\u001b[0m\u001b[0;34m\u001b[0m\u001b[0m\n\u001b[1;32m     89\u001b[0m     \u001b[0;32mif\u001b[0m \u001b[0mcorrect\u001b[0m\u001b[0;34m:\u001b[0m\u001b[0;34m\u001b[0m\u001b[0m\n",
      "\u001b[0;32m/Users/hhhung/anaconda/lib/python3.4/site-packages/nltk/classify/api.py\u001b[0m in \u001b[0;36mclassify_many\u001b[0;34m(self, featuresets)\u001b[0m\n\u001b[1;32m     75\u001b[0m         \u001b[0;34m:\u001b[0m\u001b[0mrtype\u001b[0m\u001b[0;34m:\u001b[0m \u001b[0mlist\u001b[0m\u001b[0;34m(\u001b[0m\u001b[0mlabel\u001b[0m\u001b[0;34m)\u001b[0m\u001b[0;34m\u001b[0m\u001b[0m\n\u001b[1;32m     76\u001b[0m         \"\"\"\n\u001b[0;32m---> 77\u001b[0;31m         \u001b[0;32mreturn\u001b[0m \u001b[0;34m[\u001b[0m\u001b[0mself\u001b[0m\u001b[0;34m.\u001b[0m\u001b[0mclassify\u001b[0m\u001b[0;34m(\u001b[0m\u001b[0mfs\u001b[0m\u001b[0;34m)\u001b[0m \u001b[0;32mfor\u001b[0m \u001b[0mfs\u001b[0m \u001b[0;32min\u001b[0m \u001b[0mfeaturesets\u001b[0m\u001b[0;34m]\u001b[0m\u001b[0;34m\u001b[0m\u001b[0m\n\u001b[0m\u001b[1;32m     78\u001b[0m \u001b[0;34m\u001b[0m\u001b[0m\n\u001b[1;32m     79\u001b[0m     \u001b[0;32mdef\u001b[0m \u001b[0mprob_classify_many\u001b[0m\u001b[0;34m(\u001b[0m\u001b[0mself\u001b[0m\u001b[0;34m,\u001b[0m \u001b[0mfeaturesets\u001b[0m\u001b[0;34m)\u001b[0m\u001b[0;34m:\u001b[0m\u001b[0;34m\u001b[0m\u001b[0m\n",
      "\u001b[0;32m/Users/hhhung/anaconda/lib/python3.4/site-packages/nltk/classify/api.py\u001b[0m in \u001b[0;36m<listcomp>\u001b[0;34m(.0)\u001b[0m\n\u001b[1;32m     75\u001b[0m         \u001b[0;34m:\u001b[0m\u001b[0mrtype\u001b[0m\u001b[0;34m:\u001b[0m \u001b[0mlist\u001b[0m\u001b[0;34m(\u001b[0m\u001b[0mlabel\u001b[0m\u001b[0;34m)\u001b[0m\u001b[0;34m\u001b[0m\u001b[0m\n\u001b[1;32m     76\u001b[0m         \"\"\"\n\u001b[0;32m---> 77\u001b[0;31m         \u001b[0;32mreturn\u001b[0m \u001b[0;34m[\u001b[0m\u001b[0mself\u001b[0m\u001b[0;34m.\u001b[0m\u001b[0mclassify\u001b[0m\u001b[0;34m(\u001b[0m\u001b[0mfs\u001b[0m\u001b[0;34m)\u001b[0m \u001b[0;32mfor\u001b[0m \u001b[0mfs\u001b[0m \u001b[0;32min\u001b[0m \u001b[0mfeaturesets\u001b[0m\u001b[0;34m]\u001b[0m\u001b[0;34m\u001b[0m\u001b[0m\n\u001b[0m\u001b[1;32m     78\u001b[0m \u001b[0;34m\u001b[0m\u001b[0m\n\u001b[1;32m     79\u001b[0m     \u001b[0;32mdef\u001b[0m \u001b[0mprob_classify_many\u001b[0m\u001b[0;34m(\u001b[0m\u001b[0mself\u001b[0m\u001b[0;34m,\u001b[0m \u001b[0mfeaturesets\u001b[0m\u001b[0;34m)\u001b[0m\u001b[0;34m:\u001b[0m\u001b[0;34m\u001b[0m\u001b[0m\n",
      "\u001b[0;32m<ipython-input-219-b2a1f04706e9>\u001b[0m in \u001b[0;36mclassify\u001b[0;34m(self, features)\u001b[0m\n\u001b[1;32m      8\u001b[0m             \u001b[0mv\u001b[0m \u001b[0;34m=\u001b[0m \u001b[0mc\u001b[0m\u001b[0;34m.\u001b[0m\u001b[0mclassify\u001b[0m\u001b[0;34m(\u001b[0m\u001b[0mfeatures\u001b[0m\u001b[0;34m)\u001b[0m\u001b[0;34m\u001b[0m\u001b[0m\n\u001b[1;32m      9\u001b[0m             \u001b[0mvotes\u001b[0m\u001b[0;34m.\u001b[0m\u001b[0mappend\u001b[0m\u001b[0;34m(\u001b[0m\u001b[0mv\u001b[0m\u001b[0;34m)\u001b[0m\u001b[0;34m\u001b[0m\u001b[0m\n\u001b[0;32m---> 10\u001b[0;31m         \u001b[0;32mreturn\u001b[0m \u001b[0mmode\u001b[0m\u001b[0;34m(\u001b[0m\u001b[0mvotes\u001b[0m\u001b[0;34m)\u001b[0m\u001b[0;34m\u001b[0m\u001b[0m\n\u001b[0m\u001b[1;32m     11\u001b[0m \u001b[0;34m\u001b[0m\u001b[0m\n\u001b[1;32m     12\u001b[0m     \u001b[0;32mdef\u001b[0m \u001b[0mconfidence\u001b[0m\u001b[0;34m(\u001b[0m\u001b[0mself\u001b[0m\u001b[0;34m,\u001b[0m \u001b[0mfeatures\u001b[0m\u001b[0;34m)\u001b[0m\u001b[0;34m:\u001b[0m\u001b[0;34m\u001b[0m\u001b[0m\n",
      "\u001b[0;32m/Users/hhhung/anaconda/lib/python3.4/statistics.py\u001b[0m in \u001b[0;36mmode\u001b[0;34m(data)\u001b[0m\n\u001b[1;32m    472\u001b[0m     \u001b[0;32melif\u001b[0m \u001b[0mtable\u001b[0m\u001b[0;34m:\u001b[0m\u001b[0;34m\u001b[0m\u001b[0m\n\u001b[1;32m    473\u001b[0m         raise StatisticsError(\n\u001b[0;32m--> 474\u001b[0;31m                 \u001b[0;34m'no unique mode; found %d equally common values'\u001b[0m \u001b[0;34m%\u001b[0m \u001b[0mlen\u001b[0m\u001b[0;34m(\u001b[0m\u001b[0mtable\u001b[0m\u001b[0;34m)\u001b[0m\u001b[0;34m\u001b[0m\u001b[0m\n\u001b[0m\u001b[1;32m    475\u001b[0m                 )\n\u001b[1;32m    476\u001b[0m     \u001b[0;32melse\u001b[0m\u001b[0;34m:\u001b[0m\u001b[0;34m\u001b[0m\u001b[0m\n",
      "\u001b[0;31mStatisticsError\u001b[0m: no unique mode; found 2 equally common values"
     ]
    }
   ],
   "source": [
    "print ('voted classifier Accuracy:', nltk.classify.accuracy(voted_classifier, testData)) "
   ]
  },
  {
   "cell_type": "code",
   "execution_count": null,
   "metadata": {
    "collapsed": true
   },
   "outputs": [],
   "source": [
    "print(\"Classification:\", voted_classifier.classify(testData[0][0]), \"Confidence %:\",voted_classifier.confidence(testData[0][0]))\n",
    "print(\"Classification:\", voted_classifier.classify(testData[1][0]), \"Confidence %:\",voted_classifier.confidence(testData[1][0]))\n",
    "print(\"Classification:\", voted_classifier.classify(testData[2][0]), \"Confidence %:\",voted_classifier.confidence(testData[2][0]))\n",
    "print(\"Classification:\", voted_classifier.classify(testData[3][0]), \"Confidence %:\",voted_classifier.confidence(testData[3][0]))\n",
    "print(\"Classification:\", voted_classifier.classify(testData[4][0]), \"Confidence %:\",voted_classifier.confidence(testData[4][0]))\n",
    "print(\"Classification:\", voted_classifier.classify(testData[5][0]), \"Confidence %:\",voted_classifier.confidence(testData[5][0]))"
   ]
  },
  {
   "cell_type": "markdown",
   "metadata": {},
   "source": [
    "# 4. Sklearn "
   ]
  },
  {
   "cell_type": "markdown",
   "metadata": {},
   "source": [
    "## TF-IDF representation\n",
    "\n",
    "### tf-idf(w,d) = tf (w,d)×(idf(w,d)+1)"
   ]
  },
  {
   "cell_type": "code",
   "execution_count": 376,
   "metadata": {
    "collapsed": false
   },
   "outputs": [],
   "source": [
    "from sklearn.feature_extraction.text import TfidfVectorizer\n",
    "from sklearn.feature_extraction.text import CountVectorizer\n",
    "count = CountVectorizer(stop_words ='english')\n",
    "bag = count.fit_transform([review for review, sent in documents])"
   ]
  },
  {
   "cell_type": "code",
   "execution_count": 369,
   "metadata": {
    "collapsed": false
   },
   "outputs": [
    {
     "data": {
      "text/plain": [
       "(('the whole thing plays out with the drowsy heaviness of synchronized swimmer wearing a wool wetsuit .',\n",
       "  0),\n",
       " ('there ought to be a directing license , so that ed burns can have his revoked .',\n",
       "  0))"
      ]
     },
     "execution_count": 369,
     "metadata": {},
     "output_type": "execute_result"
    }
   ],
   "source": [
    "documents[0], documents[2]"
   ]
  },
  {
   "cell_type": "code",
   "execution_count": 380,
   "metadata": {
    "collapsed": false
   },
   "outputs": [
    {
     "name": "stdout",
     "output_type": "stream",
     "text": [
      "[17829, 16082, 4860]\n"
     ]
    },
    {
     "data": {
      "text/plain": [
       "array([ 0.37,  0.21,  0.35])"
      ]
     },
     "execution_count": 380,
     "metadata": {},
     "output_type": "execute_result"
    }
   ],
   "source": [
    "a = [count.vocabulary_['wool'], count.vocabulary_['thing'], count.vocabulary_['drowsy']]\n",
    "print (a)\n",
    "nlpData_X[0][a[:]]"
   ]
  },
  {
   "cell_type": "code",
   "execution_count": 383,
   "metadata": {
    "collapsed": false
   },
   "outputs": [
    {
     "name": "stdout",
     "output_type": "stream",
     "text": [
      "[4406, 9275, 13320]\n",
      "[ 0.  0.  0.]\n",
      "[ 0.37  0.42  0.47]\n"
     ]
    }
   ],
   "source": [
    "b = [count.vocabulary_['directing'], count.vocabulary_['license'], count.vocabulary_['revoked']]\n",
    "print (b)\n",
    "print (nlpData_X[0][b[:]])\n",
    "print (nlpData_X[2][b[:]])"
   ]
  },
  {
   "cell_type": "code",
   "execution_count": 387,
   "metadata": {
    "collapsed": false
   },
   "outputs": [
    {
     "name": "stdout",
     "output_type": "stream",
     "text": [
      "4860 0.353\n",
      "7420 0.368\n",
      "11828 0.235\n",
      "15721 0.368\n",
      "15765 0.368\n",
      "16082 0.206\n",
      "17558 0.315\n",
      "17631 0.368\n",
      "17829 0.368\n"
     ]
    }
   ],
   "source": [
    "from sklearn.feature_extraction.text import TfidfTransformer\n",
    "import numpy as np\n",
    "tfidf = TfidfTransformer()\n",
    "nlpData_X = tfidf.fit_transform(bag).toarray()\n",
    "for i in range(len(nlpData_X[0])):\n",
    "    if nlpData[0][i] !=0:\n",
    "        print (i, round(nlpData_X[0][i],3))\n",
    "#print([x for x in nlpData_X[0] if x != 0])"
   ]
  },
  {
   "cell_type": "code",
   "execution_count": 367,
   "metadata": {
    "collapsed": false
   },
   "outputs": [
    {
     "name": "stdout",
     "output_type": "stream",
     "text": [
      "[0.35285352530236758, 0.36844539502206186, 0.23457680596107855, 0.36844539502206186, 0.36844539502206186, 0.20590553705369649, 0.31513644034386545, 0.36844539502206186, 0.36844539502206186]\n"
     ]
    }
   ],
   "source": [
    "from sklearn.feature_extraction.text import TfidfTransformer\n",
    "tfidf = TfidfVectorizer(strip_accents=None,lowercase=True,preprocessor=None, stop_words ='english')\n",
    "nlpData_X = tfidf.fit_transform([review for review, sent in documents]).toarray()\n",
    "print ([x for x in nlpData_X[0] if x != 0])"
   ]
  },
  {
   "cell_type": "code",
   "execution_count": 390,
   "metadata": {
    "collapsed": false
   },
   "outputs": [
    {
     "data": {
      "text/plain": [
       "((10662, 18041), 14752)"
      ]
     },
     "execution_count": 390,
     "metadata": {},
     "output_type": "execute_result"
    }
   ],
   "source": [
    "nlpData_X.shape, len(all_corpus_words)"
   ]
  },
  {
   "cell_type": "code",
   "execution_count": 426,
   "metadata": {
    "collapsed": true
   },
   "outputs": [],
   "source": [
    "from nltk import word_tokenize          \n",
    "from nltk.stem import WordNetLemmatizer\n",
    "from nltk.stem import PorterStemmer\n",
    "class LemmaTokenizer(object):\n",
    "    def __init__(self):\n",
    "        #self.wnl = WordNetLemmatizer()\n",
    "        self.wnl = PorterStemmer()\n",
    "    def __call__(self, doc):\n",
    "        return [self.wnl.stem(t) for t in word_tokenize(doc) if t not in punctuations]\n",
    "\n",
    "stemmedCount = CountVectorizer(tokenizer=LemmaTokenizer(),stop_words ='english')"
   ]
  },
  {
   "cell_type": "code",
   "execution_count": 427,
   "metadata": {
    "collapsed": false
   },
   "outputs": [
    {
     "data": {
      "text/plain": [
       "(10662, 14655)"
      ]
     },
     "execution_count": 427,
     "metadata": {},
     "output_type": "execute_result"
    }
   ],
   "source": [
    "stemmedBag = stemmedCount.fit_transform([review for review, y in documents])\n",
    "stemmedTfidf = TfidfTransformer()\n",
    "nlpData2_X = stemmedTfidf.fit_transform(stemmedBag).toarray()\n",
    "nlpData2_X.shape"
   ]
  },
  {
   "cell_type": "markdown",
   "metadata": {},
   "source": [
    "After stemmed, the variety in verb tense and noun formst no longer exists:"
   ]
  },
  {
   "cell_type": "code",
   "execution_count": 428,
   "metadata": {
    "collapsed": false
   },
   "outputs": [
    {
     "data": {
      "text/plain": [
       "(False, False, False)"
      ]
     },
     "execution_count": 428,
     "metadata": {},
     "output_type": "execute_result"
    }
   ],
   "source": [
    "'synchronized' in stemmedCount.vocabulary_, 'plays' in stemmedCount.vocabulary_, 'revoked' in stemmedCount.vocabulary_"
   ]
  },
  {
   "cell_type": "markdown",
   "metadata": {},
   "source": [
    "This is because in the **CountVectorizer** function we have implemented **LemmaTokenizer** to stem"
   ]
  },
  {
   "cell_type": "code",
   "execution_count": 429,
   "metadata": {
    "collapsed": false
   },
   "outputs": [
    {
     "data": {
      "text/plain": [
       "('synchron', 'play', 'revok')"
      ]
     },
     "execution_count": 429,
     "metadata": {},
     "output_type": "execute_result"
    }
   ],
   "source": [
    "PorterStemmer().stem('synchronized'), PorterStemmer().stem('plays'), PorterStemmer().stem('revoked')"
   ]
  },
  {
   "cell_type": "code",
   "execution_count": 430,
   "metadata": {
    "collapsed": false
   },
   "outputs": [
    {
     "data": {
      "text/plain": [
       "(True, True, True)"
      ]
     },
     "execution_count": 430,
     "metadata": {},
     "output_type": "execute_result"
    }
   ],
   "source": [
    "'synchron' in stemmedCount.vocabulary_, 'play' in stemmedCount.vocabulary_, 'revok' in stemmedCount.vocabulary_"
   ]
  },
  {
   "cell_type": "code",
   "execution_count": 431,
   "metadata": {
    "collapsed": false
   },
   "outputs": [
    {
     "name": "stdout",
     "output_type": "stream",
     "text": [
      "[12707, 9690, 10719]\n",
      "[ 0.39  0.21  0.  ] [ 0.    0.    0.48]\n"
     ]
    }
   ],
   "source": [
    "c = [stemmedCount.vocabulary_['synchron'], stemmedCount.vocabulary_['play'], stemmedCount.vocabulary_['revok']]\n",
    "print (c)\n",
    "print (nlpData2_X[0][c[:]], nlpData2_X[2][c[:]])"
   ]
  },
  {
   "cell_type": "code",
   "execution_count": 434,
   "metadata": {
    "collapsed": true
   },
   "outputs": [],
   "source": [
    "stemmedTfidf = TfidfVectorizer(strip_accents=None,lowercase=True,preprocessor=None, stop_words ='english', tokenizer=LemmaTokenizer(),)\n",
    "nlpData3_X = stemmedTfidf.fit_transform([review for review, y in documents]).toarray()"
   ]
  },
  {
   "cell_type": "code",
   "execution_count": 438,
   "metadata": {
    "collapsed": false
   },
   "outputs": [
    {
     "data": {
      "text/plain": [
       "((10662, 14655), numpy.ndarray)"
      ]
     },
     "execution_count": 438,
     "metadata": {},
     "output_type": "execute_result"
    }
   ],
   "source": [
    "nlpData3_X.shape, type(nlpData3_X)"
   ]
  },
  {
   "cell_type": "code",
   "execution_count": 439,
   "metadata": {
    "collapsed": false
   },
   "outputs": [],
   "source": [
    "nlpData3_y = np.array([y for review, y in documents])"
   ]
  },
  {
   "cell_type": "markdown",
   "metadata": {},
   "source": [
    "## Logistic Regression"
   ]
  },
  {
   "cell_type": "code",
   "execution_count": 447,
   "metadata": {
    "collapsed": false
   },
   "outputs": [
    {
     "data": {
      "text/plain": [
       "((7143, 14655), (3519, 14655))"
      ]
     },
     "execution_count": 447,
     "metadata": {},
     "output_type": "execute_result"
    }
   ],
   "source": [
    "from sklearn.model_selection import train_test_split\n",
    "X_train, X_test, y_train, y_test = train_test_split(nlpData3_X, nlpData3_y, test_size=0.33)\n",
    "X_train.shape, X_test.shape"
   ]
  },
  {
   "cell_type": "code",
   "execution_count": 456,
   "metadata": {
    "collapsed": false
   },
   "outputs": [
    {
     "data": {
      "text/plain": [
       "LogisticRegression(C=1.0, class_weight=None, dual=False, fit_intercept=True,\n",
       "          intercept_scaling=1, max_iter=100, multi_class='ovr', n_jobs=1,\n",
       "          penalty='l2', random_state=None, solver='liblinear', tol=0.0001,\n",
       "          verbose=0, warm_start=False)"
      ]
     },
     "execution_count": 456,
     "metadata": {},
     "output_type": "execute_result"
    }
   ],
   "source": [
    "logistic.fit(X_train, y_train)"
   ]
  },
  {
   "cell_type": "code",
   "execution_count": 457,
   "metadata": {
    "collapsed": false
   },
   "outputs": [
    {
     "data": {
      "text/plain": [
       "0.89976200475990475"
      ]
     },
     "execution_count": 457,
     "metadata": {},
     "output_type": "execute_result"
    }
   ],
   "source": [
    "logistic.score(X_train, y_train)"
   ]
  },
  {
   "cell_type": "code",
   "execution_count": 458,
   "metadata": {
    "collapsed": false
   },
   "outputs": [
    {
     "data": {
      "text/plain": [
       "0.74822392725206022"
      ]
     },
     "execution_count": 458,
     "metadata": {},
     "output_type": "execute_result"
    }
   ],
   "source": [
    "logistic.score(X_test, y_test)"
   ]
  },
  {
   "cell_type": "code",
   "execution_count": 472,
   "metadata": {
    "collapsed": false
   },
   "outputs": [
    {
     "name": "stdout",
     "output_type": "stream",
     "text": [
      "1e-06 0.503009735363\n",
      "0.01 0.696768721475\n",
      "0.1 0.733025797732\n",
      "1 0.755989304813\n",
      "2 0.759488354782\n",
      "3 0.759769250357\n",
      "4 0.759208830385\n",
      "5 0.759069753776\n",
      "7 0.757249025484\n",
      "10 0.757388102094\n",
      "20 0.753607177137\n",
      "Best parameter = 3  , accuracy (R^2) =  0.749076442171\n"
     ]
    }
   ],
   "source": [
    "from sklearn import model_selection\n",
    "from sklearn.cross_validation import cross_val_score\n",
    "best_logreg_model = None\n",
    "max_score = -1\n",
    "best_reg = -1\n",
    "for regularization_param in [1e-6, 0.01, 0.1, 1, 2, 3, 4, 5, 7, 10, 20]:\n",
    "    logreg = linear_model.LogisticRegression('l2', C=regularization_param)\n",
    "    cv_score = cross_val_score(logreg, X_train, y_train, cv=10, scoring='accuracy')\n",
    "    print (regularization_param, np.mean(cv_score))\n",
    "    if np.mean(cv_score) > max_score:\n",
    "        max_score = np.mean(cv_score)\n",
    "        best_logreg_model = logreg\n",
    "        best_reg = regularization_param\n",
    "        \n",
    "best_logreg_model.fit(X_train, y_train)\n",
    "prediction = best_logreg_model.predict(X_test)\n",
    "print ('Best parameter =', best_reg, ', accuracy (R^2) = ', best_logreg_model.score(X_test, y_test))"
   ]
  },
  {
   "cell_type": "code",
   "execution_count": 468,
   "metadata": {
    "collapsed": false
   },
   "outputs": [
    {
     "data": {
      "text/plain": [
       "array([0, 0, 0, 0, 0, 1, 1, 0, 1, 1, 0, 0, 0, 0, 1, 1, 0, 1, 0, 0, 1, 1, 1,\n",
       "       0, 1, 1, 0, 0, 1, 1, 1, 1, 0, 1, 1, 1, 1, 1, 1, 1, 1, 1, 0, 1, 0, 0,\n",
       "       0, 0, 0, 0, 0, 1, 1, 1, 1, 1, 0, 0, 1, 0, 0, 1, 0, 0, 1, 1, 1, 0, 0,\n",
       "       0, 0, 0, 1, 1, 0, 0, 0, 1, 1, 0, 0, 0, 1, 0, 0, 1, 0, 0, 1, 1, 0, 0,\n",
       "       1, 1, 1, 1, 0, 1, 0, 1])"
      ]
     },
     "execution_count": 468,
     "metadata": {},
     "output_type": "execute_result"
    }
   ],
   "source": [
    "prediction[:100]"
   ]
  },
  {
   "cell_type": "code",
   "execution_count": 469,
   "metadata": {
    "collapsed": false
   },
   "outputs": [
    {
     "data": {
      "text/plain": [
       "array([0, 0, 0, 1, 0, 1, 1, 0, 1, 1, 0, 0, 0, 1, 0, 1, 0, 1, 0, 0, 1, 1, 1,\n",
       "       0, 1, 1, 0, 1, 1, 0, 1, 0, 1, 1, 1, 1, 0, 0, 0, 0, 1, 1, 1, 1, 1, 1,\n",
       "       0, 0, 1, 0, 0, 1, 1, 1, 0, 1, 0, 0, 1, 0, 0, 0, 0, 1, 1, 1, 1, 0, 0,\n",
       "       0, 0, 0, 1, 1, 0, 0, 0, 0, 0, 0, 0, 1, 1, 0, 1, 1, 0, 1, 0, 1, 1, 1,\n",
       "       1, 0, 1, 1, 0, 1, 0, 1])"
      ]
     },
     "execution_count": 469,
     "metadata": {},
     "output_type": "execute_result"
    }
   ],
   "source": [
    "y_test[:100]"
   ]
  },
  {
   "cell_type": "code",
   "execution_count": 474,
   "metadata": {
    "collapsed": true
   },
   "outputs": [],
   "source": [
    "from sklearn import metrics\n",
    "import matplotlib.pyplot as plt\n",
    "import matplotlib.lines as mlines\n",
    "import seaborn as sns\n",
    "sns.set_context(\"notebook\", font_scale=1.5,rc={\"lines.linewidth\": 3})\n",
    "%matplotlib inline"
   ]
  },
  {
   "cell_type": "code",
   "execution_count": 475,
   "metadata": {
    "collapsed": false
   },
   "outputs": [
    {
     "data": {
      "text/plain": [
       "<matplotlib.legend.Legend at 0x21d461ac8>"
      ]
     },
     "execution_count": 475,
     "metadata": {},
     "output_type": "execute_result"
    },
    {
     "data": {
      "image/png": "[encoded data removed]",
      "text/plain": [
       "<matplotlib.figure.Figure at 0x21d351cf8>"
      ]
     },
     "metadata": {},
     "output_type": "display_data"
    }
   ],
   "source": [
    "logreg_y_train_prob = best_logreg_model.predict_proba(X_train)\n",
    "logreg_y_test_prob = best_logreg_model.predict_proba(X_test)\n",
    "\n",
    "fpr_train, tpr_train, _ = metrics.roc_curve(y_train, logreg_y_train_prob[:,1])\n",
    "roc_auc_train = metrics.auc(fpr_train, tpr_train)\n",
    "\n",
    "fpr_test, tpr_test, _ = metrics.roc_curve(y_test, logreg_y_test_prob[:,1])\n",
    "roc_auc_test = metrics.auc(fpr_test, tpr_test)\n",
    "\n",
    "\n",
    "plt.figure(figsize=(8,6))\n",
    "plt.plot(fpr_train, tpr_train, color = 'b')\n",
    "plt.plot(fpr_test, tpr_test, color = 'r')   #m: magenta\n",
    "\n",
    "\n",
    "plt.plot([0, 1], [0, 1], 'k--')\n",
    "plt.xlim([0.0, 1.0])\n",
    "plt.ylim([0.0, 1.0])\n",
    "plt.xlabel('False Positive Rate')\n",
    "plt.ylabel('True Positive Rate')\n",
    "plt.title('ROC curves for classifiers')\n",
    "\n",
    "blue_line = mlines.Line2D([], [], color='blue', label='training Data (area = %0.2f)' % roc_auc_train)\n",
    "red_line = mlines.Line2D([], [], color='red', label='test Data (area = %0.2f)' % roc_auc_test)\n",
    "\n",
    "plt.legend(handles=[blue_line, red_line],loc=\"lower right\")\n"
   ]
  },
  {
   "cell_type": "markdown",
   "metadata": {
    "collapsed": true
   },
   "source": [
    "## Random Forest with Grid Search"
   ]
  },
  {
   "cell_type": "code",
   "execution_count": 477,
   "metadata": {
    "collapsed": false
   },
   "outputs": [
    {
     "name": "stdout",
     "output_type": "stream",
     "text": [
      "ACC: 0.658425689116\n",
      "20.319674968719482\n"
     ]
    }
   ],
   "source": [
    "from time import time\n",
    "t0 = time()\n",
    "from sklearn.ensemble import RandomForestClassifier\n",
    "rf = RandomForestClassifier()\n",
    "rf.fit(X_train, y_train)\n",
    "print ('ACC:', rf.score(X_test, y_test))\n",
    "print (time()-t0)"
   ]
  },
  {
   "cell_type": "code",
   "execution_count": 478,
   "metadata": {
    "collapsed": false
   },
   "outputs": [
    {
     "name": "stdout",
     "output_type": "stream",
     "text": [
      "Fitting 10 folds for each of 48 candidates, totalling 480 fits\n",
      "[CV] n_estimators=100, max_depth=5, min_samples_leaf=10 ..............\n",
      "[CV] n_estimators=100, max_depth=5, min_samples_leaf=10 ..............\n",
      "[CV] n_estimators=100, max_depth=5, min_samples_leaf=10 ..............\n",
      "[CV] n_estimators=100, max_depth=5, min_samples_leaf=10 ..............\n",
      "[CV] ..... n_estimators=100, max_depth=5, min_samples_leaf=10 -  46.4s[CV] ..... n_estimators=100, max_depth=5, min_samples_leaf=10 -  44.8s[CV] ..... n_estimators=100, max_depth=5, min_samples_leaf=10 -  41.5s[CV] ..... n_estimators=100, max_depth=5, min_samples_leaf=10 -  39.7s\n",
      "\n",
      "\n",
      "\n",
      "[CV] n_estimators=100, max_depth=5, min_samples_leaf=10 ..............[CV] n_estimators=100, max_depth=5, min_samples_leaf=10 ..............[CV] n_estimators=100, max_depth=5, min_samples_leaf=10 ..............[CV] n_estimators=100, max_depth=5, min_samples_leaf=10 ..............\n",
      "\n",
      "\n",
      "\n",
      "[CV] ..... n_estimators=100, max_depth=5, min_samples_leaf=10 -  33.1s[CV] ..... n_estimators=100, max_depth=5, min_samples_leaf=10 -  34.6s[CV] ..... n_estimators=100, max_depth=5, min_samples_leaf=10 -  29.7s[CV] ..... n_estimators=100, max_depth=5, min_samples_leaf=10 -  35.2s\n",
      "\n",
      "\n",
      "\n",
      "[CV] n_estimators=100, max_depth=5, min_samples_leaf=10 ..............[CV] n_estimators=200, max_depth=5, min_samples_leaf=10 ..............[CV] n_estimators=100, max_depth=5, min_samples_leaf=10 ..............[CV] n_estimators=200, max_depth=5, min_samples_leaf=10 ..............\n",
      "\n",
      "\n",
      "\n",
      "[CV] ..... n_estimators=100, max_depth=5, min_samples_leaf=10 -  33.8s[CV] ..... n_estimators=200, max_depth=5, min_samples_leaf=10 -  52.9s[CV] ..... n_estimators=100, max_depth=5, min_samples_leaf=10 -  31.8s[CV] ..... n_estimators=200, max_depth=5, min_samples_leaf=10 -  52.0s\n",
      "\n",
      "\n",
      "\n",
      "[CV] n_estimators=200, max_depth=5, min_samples_leaf=10 ..............[CV] n_estimators=200, max_depth=5, min_samples_leaf=10 ..............[CV] n_estimators=200, max_depth=5, min_samples_leaf=10 ..............[CV] n_estimators=200, max_depth=5, min_samples_leaf=10 ..............\n",
      "\n",
      "\n",
      "\n",
      "[CV] ..... n_estimators=200, max_depth=5, min_samples_leaf=10 -  54.0s[CV] ..... n_estimators=200, max_depth=5, min_samples_leaf=10 - 1.0min[CV] ..... n_estimators=200, max_depth=5, min_samples_leaf=10 -  54.5s[CV] ..... n_estimators=200, max_depth=5, min_samples_leaf=10 - 1.0min\n",
      "\n",
      "\n",
      "\n",
      "[CV] n_estimators=200, max_depth=5, min_samples_leaf=10 ..............[CV] n_estimators=200, max_depth=5, min_samples_leaf=10 ..............[CV] n_estimators=200, max_depth=5, min_samples_leaf=10 ..............[CV] n_estimators=200, max_depth=5, min_samples_leaf=10 ..............\n",
      "\n",
      "\n",
      "\n",
      "[CV] ..... n_estimators=200, max_depth=5, min_samples_leaf=10 -  59.5s[CV] ..... n_estimators=200, max_depth=5, min_samples_leaf=10 - 1.0min[CV] ..... n_estimators=200, max_depth=5, min_samples_leaf=10 -  57.4s[CV] ..... n_estimators=200, max_depth=5, min_samples_leaf=10 - 1.0min\n",
      "\n",
      "\n",
      "\n",
      "[CV] n_estimators=300, max_depth=5, min_samples_leaf=10 ..............[CV] n_estimators=300, max_depth=5, min_samples_leaf=10 ..............[CV] n_estimators=300, max_depth=5, min_samples_leaf=10 ..............[CV] n_estimators=300, max_depth=5, min_samples_leaf=10 ..............\n",
      "\n",
      "\n",
      "\n",
      "[CV] ..... n_estimators=300, max_depth=5, min_samples_leaf=10 - 1.4min[CV] ..... n_estimators=300, max_depth=5, min_samples_leaf=10 - 1.3min[CV] ..... n_estimators=300, max_depth=5, min_samples_leaf=10 - 1.5min[CV] ..... n_estimators=300, max_depth=5, min_samples_leaf=10 - 1.4min\n",
      "\n",
      "\n",
      "\n",
      "[CV] n_estimators=300, max_depth=5, min_samples_leaf=10 ..............[CV] n_estimators=300, max_depth=5, min_samples_leaf=10 ..............[CV] n_estimators=300, max_depth=5, min_samples_leaf=10 ..............[CV] n_estimators=300, max_depth=5, min_samples_leaf=10 ..............\n",
      "\n",
      "\n",
      "\n",
      "[CV] ..... n_estimators=300, max_depth=5, min_samples_leaf=10 - 1.6min[CV] ..... n_estimators=300, max_depth=5, min_samples_leaf=10 - 1.6min[CV] ..... n_estimators=300, max_depth=5, min_samples_leaf=10 - 1.6min[CV] ..... n_estimators=300, max_depth=5, min_samples_leaf=10 - 1.5min\n",
      "\n",
      "\n",
      "\n",
      "[CV] n_estimators=300, max_depth=5, min_samples_leaf=10 ..............[CV] n_estimators=500, max_depth=5, min_samples_leaf=10 ..............[CV] n_estimators=300, max_depth=5, min_samples_leaf=10 ..............[CV] n_estimators=500, max_depth=5, min_samples_leaf=10 ..............\n",
      "\n",
      "\n",
      "\n",
      "[CV] ..... n_estimators=300, max_depth=5, min_samples_leaf=10 - 1.5min[CV] ..... n_estimators=500, max_depth=5, min_samples_leaf=10 - 2.2min[CV] ..... n_estimators=300, max_depth=5, min_samples_leaf=10 - 1.6min[CV] ..... n_estimators=500, max_depth=5, min_samples_leaf=10 - 2.2min\n",
      "\n",
      "\n",
      "\n",
      "[CV] n_estimators=500, max_depth=5, min_samples_leaf=10 ..............[CV] n_estimators=500, max_depth=5, min_samples_leaf=10 ..............[CV] n_estimators=500, max_depth=5, min_samples_leaf=10 ..............[CV] n_estimators=500, max_depth=5, min_samples_leaf=10 ..............\n",
      "\n",
      "\n",
      "\n",
      "[CV] ..... n_estimators=500, max_depth=5, min_samples_leaf=10 - 2.1min[CV] ..... n_estimators=500, max_depth=5, min_samples_leaf=10 - 1.9min[CV] ..... n_estimators=500, max_depth=5, min_samples_leaf=10 - 2.1min[CV] ..... n_estimators=500, max_depth=5, min_samples_leaf=10 - 1.9min\n",
      "\n",
      "\n",
      "\n",
      "[CV] n_estimators=500, max_depth=5, min_samples_leaf=10 ..............[CV] n_estimators=500, max_depth=5, min_samples_leaf=10 ..............[CV] n_estimators=500, max_depth=5, min_samples_leaf=10 ..............[CV] n_estimators=500, max_depth=5, min_samples_leaf=10 ..............\n",
      "\n",
      "\n",
      "\n",
      "[CV] ..... n_estimators=500, max_depth=5, min_samples_leaf=10 - 1.8min[CV] ..... n_estimators=500, max_depth=5, min_samples_leaf=10 - 1.8min[CV] ..... n_estimators=500, max_depth=5, min_samples_leaf=10 - 1.8min[CV] ..... n_estimators=500, max_depth=5, min_samples_leaf=10 - 1.9min\n",
      "\n",
      "\n",
      "\n",
      "[CV] n_estimators=700, max_depth=5, min_samples_leaf=10 ..............[CV] n_estimators=700, max_depth=5, min_samples_leaf=10 ..............[CV] n_estimators=700, max_depth=5, min_samples_leaf=10 ..............[CV] n_estimators=700, max_depth=5, min_samples_leaf=10 ..............\n",
      "\n",
      "\n",
      "\n",
      "[CV] ..... n_estimators=700, max_depth=5, min_samples_leaf=10 - 2.7min[CV] ..... n_estimators=700, max_depth=5, min_samples_leaf=10 - 2.7min[CV] ..... n_estimators=700, max_depth=5, min_samples_leaf=10 - 2.7min[CV] ..... n_estimators=700, max_depth=5, min_samples_leaf=10 - 2.6min\n",
      "\n",
      "\n",
      "\n",
      "[CV] n_estimators=700, max_depth=5, min_samples_leaf=10 ..............[CV] n_estimators=700, max_depth=5, min_samples_leaf=10 ..............[CV] n_estimators=700, max_depth=5, min_samples_leaf=10 ..............[CV] n_estimators=700, max_depth=5, min_samples_leaf=10 ..............\n",
      "\n",
      "\n",
      "\n",
      "[CV] ..... n_estimators=700, max_depth=5, min_samples_leaf=10 - 2.4min[CV] ..... n_estimators=700, max_depth=5, min_samples_leaf=10 - 2.6min[CV] ..... n_estimators=700, max_depth=5, min_samples_leaf=10 - 2.4min[CV] ..... n_estimators=700, max_depth=5, min_samples_leaf=10 - 2.6min\n",
      "\n",
      "\n",
      "\n",
      "[CV] n_estimators=700, max_depth=5, min_samples_leaf=10 ..............[CV] n_estimators=1000, max_depth=5, min_samples_leaf=10 .............[CV] n_estimators=700, max_depth=5, min_samples_leaf=10 ..............[CV] n_estimators=1000, max_depth=5, min_samples_leaf=10 .............\n",
      "\n",
      "\n",
      "\n",
      "[CV] ..... n_estimators=700, max_depth=5, min_samples_leaf=10 - 2.8min[CV] .... n_estimators=1000, max_depth=5, min_samples_leaf=10 - 3.6min[CV] ..... n_estimators=700, max_depth=5, min_samples_leaf=10 - 2.8min[CV] .... n_estimators=1000, max_depth=5, min_samples_leaf=10 - 3.6min\n",
      "\n",
      "\n",
      "\n",
      "[CV] n_estimators=1000, max_depth=5, min_samples_leaf=10 .............[CV] n_estimators=1000, max_depth=5, min_samples_leaf=10 .............[CV] n_estimators=1000, max_depth=5, min_samples_leaf=10 .............[CV] n_estimators=1000, max_depth=5, min_samples_leaf=10 .............\n",
      "\n",
      "\n",
      "\n",
      "[CV] .... n_estimators=1000, max_depth=5, min_samples_leaf=10 - 3.2min[CV] .... n_estimators=1000, max_depth=5, min_samples_leaf=10 - 3.8min[CV] .... n_estimators=1000, max_depth=5, min_samples_leaf=10 - 3.3min[CV] .... n_estimators=1000, max_depth=5, min_samples_leaf=10 - 3.8min\n",
      "\n",
      "\n",
      "\n",
      "[CV] n_estimators=1000, max_depth=5, min_samples_leaf=10 .............[CV] n_estimators=1000, max_depth=5, min_samples_leaf=10 .............[CV] n_estimators=1000, max_depth=5, min_samples_leaf=10 .............[CV] n_estimators=1000, max_depth=5, min_samples_leaf=10 .............\n",
      "\n",
      "\n",
      "\n",
      "[CV] .... n_estimators=1000, max_depth=5, min_samples_leaf=10 - 3.9min[CV] .... n_estimators=1000, max_depth=5, min_samples_leaf=10 - 3.9min[CV] .... n_estimators=1000, max_depth=5, min_samples_leaf=10 - 3.9min[CV] .... n_estimators=1000, max_depth=5, min_samples_leaf=10 - 3.8min\n",
      "\n",
      "\n",
      "\n",
      "[CV] n_estimators=100, max_depth=5, min_samples_leaf=20 ..............[CV] n_estimators=200, max_depth=5, min_samples_leaf=20 ..............[CV] n_estimators=100, max_depth=5, min_samples_leaf=20 ..............[CV] n_estimators=200, max_depth=5, min_samples_leaf=20 ..............\n",
      "\n",
      "\n",
      "\n",
      "[CV] ..... n_estimators=100, max_depth=5, min_samples_leaf=20 -  32.5s[CV] ..... n_estimators=200, max_depth=5, min_samples_leaf=20 -  43.7s[CV] ..... n_estimators=100, max_depth=5, min_samples_leaf=20 -  27.1s[CV] ..... n_estimators=200, max_depth=5, min_samples_leaf=20 -  46.5s\n",
      "\n",
      "\n",
      "\n",
      "[CV] n_estimators=100, max_depth=5, min_samples_leaf=20 ..............[CV] n_estimators=200, max_depth=5, min_samples_leaf=20 ..............[CV] n_estimators=100, max_depth=5, min_samples_leaf=20 ..............[CV] n_estimators=200, max_depth=5, min_samples_leaf=20 .............."
     ]
    },
    {
     "name": "stderr",
     "output_type": "stream",
     "text": [
      "[Parallel(n_jobs=-1)]: Done  33 tasks      | elapsed: 10.6min\n"
     ]
    },
    {
     "ename": "KeyboardInterrupt",
     "evalue": "",
     "output_type": "error",
     "traceback": [
      "\u001b[0;31m---------------------------------------------------------------------------\u001b[0m",
      "\u001b[0;31mKeyboardInterrupt\u001b[0m                         Traceback (most recent call last)",
      "\u001b[0;32m<ipython-input-478-24387d9a01d4>\u001b[0m in \u001b[0;36m<module>\u001b[0;34m()\u001b[0m\n\u001b[1;32m      3\u001b[0m \u001b[0mparameters\u001b[0m \u001b[0;34m=\u001b[0m \u001b[0;34m{\u001b[0m\u001b[0;34m'n_estimators'\u001b[0m\u001b[0;34m:\u001b[0m \u001b[0;34m[\u001b[0m\u001b[0;36m100\u001b[0m\u001b[0;34m,\u001b[0m \u001b[0;36m200\u001b[0m\u001b[0;34m,\u001b[0m \u001b[0;36m300\u001b[0m\u001b[0;34m,\u001b[0m \u001b[0;36m500\u001b[0m\u001b[0;34m,\u001b[0m \u001b[0;36m700\u001b[0m\u001b[0;34m,\u001b[0m \u001b[0;36m1000\u001b[0m\u001b[0;34m]\u001b[0m\u001b[0;34m,\u001b[0m\u001b[0;34m'max_depth'\u001b[0m\u001b[0;34m:\u001b[0m\u001b[0;34m[\u001b[0m\u001b[0;36m5\u001b[0m\u001b[0;34m,\u001b[0m\u001b[0;36m10\u001b[0m\u001b[0;34m,\u001b[0m\u001b[0;36m15\u001b[0m\u001b[0;34m,\u001b[0m \u001b[0;36m20\u001b[0m\u001b[0;34m]\u001b[0m\u001b[0;34m,\u001b[0m\u001b[0;34m'min_samples_leaf'\u001b[0m\u001b[0;34m:\u001b[0m\u001b[0;34m[\u001b[0m\u001b[0;36m10\u001b[0m\u001b[0;34m,\u001b[0m\u001b[0;36m20\u001b[0m\u001b[0;34m]\u001b[0m\u001b[0;34m}\u001b[0m\u001b[0;34m\u001b[0m\u001b[0m\n\u001b[1;32m      4\u001b[0m \u001b[0mmodel_cv_grid\u001b[0m \u001b[0;34m=\u001b[0m \u001b[0mgrid_search\u001b[0m\u001b[0;34m.\u001b[0m\u001b[0mGridSearchCV\u001b[0m\u001b[0;34m(\u001b[0m\u001b[0mrf\u001b[0m\u001b[0;34m,\u001b[0m\u001b[0mparameters\u001b[0m\u001b[0;34m,\u001b[0m\u001b[0mscoring\u001b[0m\u001b[0;34m=\u001b[0m\u001b[0;34m'roc_auc'\u001b[0m\u001b[0;34m,\u001b[0m\u001b[0mverbose\u001b[0m\u001b[0;34m=\u001b[0m\u001b[0;36m2\u001b[0m\u001b[0;34m,\u001b[0m\u001b[0mn_jobs\u001b[0m\u001b[0;34m=\u001b[0m\u001b[0;34m-\u001b[0m\u001b[0;36m1\u001b[0m\u001b[0;34m,\u001b[0m \u001b[0mcv\u001b[0m \u001b[0;34m=\u001b[0m\u001b[0;36m10\u001b[0m\u001b[0;34m)\u001b[0m\u001b[0;34m\u001b[0m\u001b[0m\n\u001b[0;32m----> 5\u001b[0;31m \u001b[0mmodel_cv_grid\u001b[0m\u001b[0;34m.\u001b[0m\u001b[0mfit\u001b[0m\u001b[0;34m(\u001b[0m\u001b[0mX_train\u001b[0m\u001b[0;34m,\u001b[0m\u001b[0my_train\u001b[0m\u001b[0;34m)\u001b[0m\u001b[0;34m\u001b[0m\u001b[0m\n\u001b[0m\u001b[1;32m      6\u001b[0m \u001b[0mbest_rf_model\u001b[0m \u001b[0;34m=\u001b[0m \u001b[0mmodel_cv_grid\u001b[0m\u001b[0;34m.\u001b[0m\u001b[0mbest_estimator_\u001b[0m\u001b[0;34m\u001b[0m\u001b[0m\n",
      "\u001b[0;32m/Users/hhhung/anaconda/lib/python3.4/site-packages/sklearn/grid_search.py\u001b[0m in \u001b[0;36mfit\u001b[0;34m(self, X, y)\u001b[0m\n\u001b[1;32m    811\u001b[0m \u001b[0;34m\u001b[0m\u001b[0m\n\u001b[1;32m    812\u001b[0m         \"\"\"\n\u001b[0;32m--> 813\u001b[0;31m         \u001b[0;32mreturn\u001b[0m \u001b[0mself\u001b[0m\u001b[0;34m.\u001b[0m\u001b[0m_fit\u001b[0m\u001b[0;34m(\u001b[0m\u001b[0mX\u001b[0m\u001b[0;34m,\u001b[0m \u001b[0my\u001b[0m\u001b[0;34m,\u001b[0m \u001b[0mParameterGrid\u001b[0m\u001b[0;34m(\u001b[0m\u001b[0mself\u001b[0m\u001b[0;34m.\u001b[0m\u001b[0mparam_grid\u001b[0m\u001b[0;34m)\u001b[0m\u001b[0;34m)\u001b[0m\u001b[0;34m\u001b[0m\u001b[0m\n\u001b[0m\u001b[1;32m    814\u001b[0m \u001b[0;34m\u001b[0m\u001b[0m\n\u001b[1;32m    815\u001b[0m \u001b[0;34m\u001b[0m\u001b[0m\n",
      "\u001b[0;32m/Users/hhhung/anaconda/lib/python3.4/site-packages/sklearn/grid_search.py\u001b[0m in \u001b[0;36m_fit\u001b[0;34m(self, X, y, parameter_iterable)\u001b[0m\n\u001b[1;32m    559\u001b[0m                                     \u001b[0mself\u001b[0m\u001b[0;34m.\u001b[0m\u001b[0mfit_params\u001b[0m\u001b[0;34m,\u001b[0m \u001b[0mreturn_parameters\u001b[0m\u001b[0;34m=\u001b[0m\u001b[0;32mTrue\u001b[0m\u001b[0;34m,\u001b[0m\u001b[0;34m\u001b[0m\u001b[0m\n\u001b[1;32m    560\u001b[0m                                     error_score=self.error_score)\n\u001b[0;32m--> 561\u001b[0;31m                 \u001b[0;32mfor\u001b[0m \u001b[0mparameters\u001b[0m \u001b[0;32min\u001b[0m \u001b[0mparameter_iterable\u001b[0m\u001b[0;34m\u001b[0m\u001b[0m\n\u001b[0m\u001b[1;32m    562\u001b[0m                 for train, test in cv)\n\u001b[1;32m    563\u001b[0m \u001b[0;34m\u001b[0m\u001b[0m\n",
      "\u001b[0;32m/Users/hhhung/anaconda/lib/python3.4/site-packages/sklearn/externals/joblib/parallel.py\u001b[0m in \u001b[0;36m__call__\u001b[0;34m(self, iterable)\u001b[0m\n\u001b[1;32m    766\u001b[0m                 \u001b[0;31m# consumption.\u001b[0m\u001b[0;34m\u001b[0m\u001b[0;34m\u001b[0m\u001b[0m\n\u001b[1;32m    767\u001b[0m                 \u001b[0mself\u001b[0m\u001b[0;34m.\u001b[0m\u001b[0m_iterating\u001b[0m \u001b[0;34m=\u001b[0m \u001b[0;32mFalse\u001b[0m\u001b[0;34m\u001b[0m\u001b[0m\n\u001b[0;32m--> 768\u001b[0;31m             \u001b[0mself\u001b[0m\u001b[0;34m.\u001b[0m\u001b[0mretrieve\u001b[0m\u001b[0;34m(\u001b[0m\u001b[0;34m)\u001b[0m\u001b[0;34m\u001b[0m\u001b[0m\n\u001b[0m\u001b[1;32m    769\u001b[0m             \u001b[0;31m# Make sure that we get a last message telling us we are done\u001b[0m\u001b[0;34m\u001b[0m\u001b[0;34m\u001b[0m\u001b[0m\n\u001b[1;32m    770\u001b[0m             \u001b[0melapsed_time\u001b[0m \u001b[0;34m=\u001b[0m \u001b[0mtime\u001b[0m\u001b[0;34m.\u001b[0m\u001b[0mtime\u001b[0m\u001b[0;34m(\u001b[0m\u001b[0;34m)\u001b[0m \u001b[0;34m-\u001b[0m \u001b[0mself\u001b[0m\u001b[0;34m.\u001b[0m\u001b[0m_start_time\u001b[0m\u001b[0;34m\u001b[0m\u001b[0m\n",
      "\u001b[0;32m/Users/hhhung/anaconda/lib/python3.4/site-packages/sklearn/externals/joblib/parallel.py\u001b[0m in \u001b[0;36mretrieve\u001b[0;34m(self)\u001b[0m\n\u001b[1;32m    717\u001b[0m                     \u001b[0mensure_ready\u001b[0m \u001b[0;34m=\u001b[0m \u001b[0mself\u001b[0m\u001b[0;34m.\u001b[0m\u001b[0m_managed_backend\u001b[0m\u001b[0;34m\u001b[0m\u001b[0m\n\u001b[1;32m    718\u001b[0m                     \u001b[0mbackend\u001b[0m\u001b[0;34m.\u001b[0m\u001b[0mabort_everything\u001b[0m\u001b[0;34m(\u001b[0m\u001b[0mensure_ready\u001b[0m\u001b[0;34m=\u001b[0m\u001b[0mensure_ready\u001b[0m\u001b[0;34m)\u001b[0m\u001b[0;34m\u001b[0m\u001b[0m\n\u001b[0;32m--> 719\u001b[0;31m                 \u001b[0;32mraise\u001b[0m \u001b[0mexception\u001b[0m\u001b[0;34m\u001b[0m\u001b[0m\n\u001b[0m\u001b[1;32m    720\u001b[0m \u001b[0;34m\u001b[0m\u001b[0m\n\u001b[1;32m    721\u001b[0m     \u001b[0;32mdef\u001b[0m \u001b[0m__call__\u001b[0m\u001b[0;34m(\u001b[0m\u001b[0mself\u001b[0m\u001b[0;34m,\u001b[0m \u001b[0miterable\u001b[0m\u001b[0;34m)\u001b[0m\u001b[0;34m:\u001b[0m\u001b[0;34m\u001b[0m\u001b[0m\n",
      "\u001b[0;32m/Users/hhhung/anaconda/lib/python3.4/site-packages/sklearn/externals/joblib/parallel.py\u001b[0m in \u001b[0;36mretrieve\u001b[0;34m(self)\u001b[0m\n\u001b[1;32m    680\u001b[0m                 \u001b[0;31m# check if timeout supported in backend future implementation\u001b[0m\u001b[0;34m\u001b[0m\u001b[0;34m\u001b[0m\u001b[0m\n\u001b[1;32m    681\u001b[0m                 \u001b[0;32mif\u001b[0m \u001b[0;34m'timeout'\u001b[0m \u001b[0;32min\u001b[0m \u001b[0mgetfullargspec\u001b[0m\u001b[0;34m(\u001b[0m\u001b[0mjob\u001b[0m\u001b[0;34m.\u001b[0m\u001b[0mget\u001b[0m\u001b[0;34m)\u001b[0m\u001b[0;34m.\u001b[0m\u001b[0margs\u001b[0m\u001b[0;34m:\u001b[0m\u001b[0;34m\u001b[0m\u001b[0m\n\u001b[0;32m--> 682\u001b[0;31m                     \u001b[0mself\u001b[0m\u001b[0;34m.\u001b[0m\u001b[0m_output\u001b[0m\u001b[0;34m.\u001b[0m\u001b[0mextend\u001b[0m\u001b[0;34m(\u001b[0m\u001b[0mjob\u001b[0m\u001b[0;34m.\u001b[0m\u001b[0mget\u001b[0m\u001b[0;34m(\u001b[0m\u001b[0mtimeout\u001b[0m\u001b[0;34m=\u001b[0m\u001b[0mself\u001b[0m\u001b[0;34m.\u001b[0m\u001b[0mtimeout\u001b[0m\u001b[0;34m)\u001b[0m\u001b[0;34m)\u001b[0m\u001b[0;34m\u001b[0m\u001b[0m\n\u001b[0m\u001b[1;32m    683\u001b[0m                 \u001b[0;32melse\u001b[0m\u001b[0;34m:\u001b[0m\u001b[0;34m\u001b[0m\u001b[0m\n\u001b[1;32m    684\u001b[0m                     \u001b[0mself\u001b[0m\u001b[0;34m.\u001b[0m\u001b[0m_output\u001b[0m\u001b[0;34m.\u001b[0m\u001b[0mextend\u001b[0m\u001b[0;34m(\u001b[0m\u001b[0mjob\u001b[0m\u001b[0;34m.\u001b[0m\u001b[0mget\u001b[0m\u001b[0;34m(\u001b[0m\u001b[0;34m)\u001b[0m\u001b[0;34m)\u001b[0m\u001b[0;34m\u001b[0m\u001b[0m\n",
      "\u001b[0;32m/Users/hhhung/anaconda/lib/python3.4/multiprocessing/pool.py\u001b[0m in \u001b[0;36mget\u001b[0;34m(self, timeout)\u001b[0m\n\u001b[1;32m    600\u001b[0m \u001b[0;34m\u001b[0m\u001b[0m\n\u001b[1;32m    601\u001b[0m     \u001b[0;32mdef\u001b[0m \u001b[0mget\u001b[0m\u001b[0;34m(\u001b[0m\u001b[0mself\u001b[0m\u001b[0;34m,\u001b[0m \u001b[0mtimeout\u001b[0m\u001b[0;34m=\u001b[0m\u001b[0;32mNone\u001b[0m\u001b[0;34m)\u001b[0m\u001b[0;34m:\u001b[0m\u001b[0;34m\u001b[0m\u001b[0m\n\u001b[0;32m--> 602\u001b[0;31m         \u001b[0mself\u001b[0m\u001b[0;34m.\u001b[0m\u001b[0mwait\u001b[0m\u001b[0;34m(\u001b[0m\u001b[0mtimeout\u001b[0m\u001b[0;34m)\u001b[0m\u001b[0;34m\u001b[0m\u001b[0m\n\u001b[0m\u001b[1;32m    603\u001b[0m         \u001b[0;32mif\u001b[0m \u001b[0;32mnot\u001b[0m \u001b[0mself\u001b[0m\u001b[0;34m.\u001b[0m\u001b[0mready\u001b[0m\u001b[0;34m(\u001b[0m\u001b[0;34m)\u001b[0m\u001b[0;34m:\u001b[0m\u001b[0;34m\u001b[0m\u001b[0m\n\u001b[1;32m    604\u001b[0m             \u001b[0;32mraise\u001b[0m \u001b[0mTimeoutError\u001b[0m\u001b[0;34m\u001b[0m\u001b[0m\n",
      "\u001b[0;32m/Users/hhhung/anaconda/lib/python3.4/multiprocessing/pool.py\u001b[0m in \u001b[0;36mwait\u001b[0;34m(self, timeout)\u001b[0m\n\u001b[1;32m    597\u001b[0m \u001b[0;34m\u001b[0m\u001b[0m\n\u001b[1;32m    598\u001b[0m     \u001b[0;32mdef\u001b[0m \u001b[0mwait\u001b[0m\u001b[0;34m(\u001b[0m\u001b[0mself\u001b[0m\u001b[0;34m,\u001b[0m \u001b[0mtimeout\u001b[0m\u001b[0;34m=\u001b[0m\u001b[0;32mNone\u001b[0m\u001b[0;34m)\u001b[0m\u001b[0;34m:\u001b[0m\u001b[0;34m\u001b[0m\u001b[0m\n\u001b[0;32m--> 599\u001b[0;31m         \u001b[0mself\u001b[0m\u001b[0;34m.\u001b[0m\u001b[0m_event\u001b[0m\u001b[0;34m.\u001b[0m\u001b[0mwait\u001b[0m\u001b[0;34m(\u001b[0m\u001b[0mtimeout\u001b[0m\u001b[0;34m)\u001b[0m\u001b[0;34m\u001b[0m\u001b[0m\n\u001b[0m\u001b[1;32m    600\u001b[0m \u001b[0;34m\u001b[0m\u001b[0m\n\u001b[1;32m    601\u001b[0m     \u001b[0;32mdef\u001b[0m \u001b[0mget\u001b[0m\u001b[0;34m(\u001b[0m\u001b[0mself\u001b[0m\u001b[0;34m,\u001b[0m \u001b[0mtimeout\u001b[0m\u001b[0;34m=\u001b[0m\u001b[0;32mNone\u001b[0m\u001b[0;34m)\u001b[0m\u001b[0;34m:\u001b[0m\u001b[0;34m\u001b[0m\u001b[0m\n",
      "\u001b[0;32m/Users/hhhung/anaconda/lib/python3.4/threading.py\u001b[0m in \u001b[0;36mwait\u001b[0;34m(self, timeout)\u001b[0m\n\u001b[1;32m    544\u001b[0m             \u001b[0msignaled\u001b[0m \u001b[0;34m=\u001b[0m \u001b[0mself\u001b[0m\u001b[0;34m.\u001b[0m\u001b[0m_flag\u001b[0m\u001b[0;34m\u001b[0m\u001b[0m\n\u001b[1;32m    545\u001b[0m             \u001b[0;32mif\u001b[0m \u001b[0;32mnot\u001b[0m \u001b[0msignaled\u001b[0m\u001b[0;34m:\u001b[0m\u001b[0;34m\u001b[0m\u001b[0m\n\u001b[0;32m--> 546\u001b[0;31m                 \u001b[0msignaled\u001b[0m \u001b[0;34m=\u001b[0m \u001b[0mself\u001b[0m\u001b[0;34m.\u001b[0m\u001b[0m_cond\u001b[0m\u001b[0;34m.\u001b[0m\u001b[0mwait\u001b[0m\u001b[0;34m(\u001b[0m\u001b[0mtimeout\u001b[0m\u001b[0;34m)\u001b[0m\u001b[0;34m\u001b[0m\u001b[0m\n\u001b[0m\u001b[1;32m    547\u001b[0m             \u001b[0;32mreturn\u001b[0m \u001b[0msignaled\u001b[0m\u001b[0;34m\u001b[0m\u001b[0m\n\u001b[1;32m    548\u001b[0m \u001b[0;34m\u001b[0m\u001b[0m\n",
      "\u001b[0;32m/Users/hhhung/anaconda/lib/python3.4/threading.py\u001b[0m in \u001b[0;36mwait\u001b[0;34m(self, timeout)\u001b[0m\n\u001b[1;32m    288\u001b[0m         \u001b[0;32mtry\u001b[0m\u001b[0;34m:\u001b[0m    \u001b[0;31m# restore state no matter what (e.g., KeyboardInterrupt)\u001b[0m\u001b[0;34m\u001b[0m\u001b[0m\n\u001b[1;32m    289\u001b[0m             \u001b[0;32mif\u001b[0m \u001b[0mtimeout\u001b[0m \u001b[0;32mis\u001b[0m \u001b[0;32mNone\u001b[0m\u001b[0;34m:\u001b[0m\u001b[0;34m\u001b[0m\u001b[0m\n\u001b[0;32m--> 290\u001b[0;31m                 \u001b[0mwaiter\u001b[0m\u001b[0;34m.\u001b[0m\u001b[0macquire\u001b[0m\u001b[0;34m(\u001b[0m\u001b[0;34m)\u001b[0m\u001b[0;34m\u001b[0m\u001b[0m\n\u001b[0m\u001b[1;32m    291\u001b[0m                 \u001b[0mgotit\u001b[0m \u001b[0;34m=\u001b[0m \u001b[0;32mTrue\u001b[0m\u001b[0;34m\u001b[0m\u001b[0m\n\u001b[1;32m    292\u001b[0m             \u001b[0;32melse\u001b[0m\u001b[0;34m:\u001b[0m\u001b[0;34m\u001b[0m\u001b[0m\n",
      "\u001b[0;31mKeyboardInterrupt\u001b[0m: "
     ]
    },
    {
     "name": "stdout",
     "output_type": "stream",
     "text": [
      "\n",
      "\n",
      "\n",
      "\n",
      "[CV] ..... n_estimators=100, max_depth=5, min_samples_leaf=20 -  31.1s[CV] ..... n_estimators=200, max_depth=5, min_samples_leaf=20 -  45.0s[CV] ..... n_estimators=100, max_depth=5, min_samples_leaf=20 -  30.1s[CV] ..... n_estimators=200, max_depth=5, min_samples_leaf=20 -  42.9s\n",
      "\n",
      "\n",
      "\n",
      "[CV] n_estimators=100, max_depth=5, min_samples_leaf=20 ..............[CV] n_estimators=300, max_depth=5, min_samples_leaf=20 ..............[CV] n_estimators=100, max_depth=5, min_samples_leaf=20 ..............[CV] n_estimators=300, max_depth=5, min_samples_leaf=20 ..............\n",
      "\n",
      "\n",
      "\n",
      "[CV] ..... n_estimators=100, max_depth=5, min_samples_leaf=20 -  26.4s[CV] ..... n_estimators=300, max_depth=5, min_samples_leaf=20 - 1.1min[CV] ..... n_estimators=100, max_depth=5, min_samples_leaf=20 -  26.0s[CV] ..... n_estimators=300, max_depth=5, min_samples_leaf=20 - 1.1min\n",
      "\n",
      "\n",
      "\n",
      "[CV] n_estimators=100, max_depth=5, min_samples_leaf=20 ..............[CV] n_estimators=300, max_depth=5, min_samples_leaf=20 ..............[CV] n_estimators=100, max_depth=5, min_samples_leaf=20 ..............[CV] n_estimators=300, max_depth=5, min_samples_leaf=20 ..............\n",
      "\n",
      "\n",
      "\n",
      "[CV] ..... n_estimators=100, max_depth=5, min_samples_leaf=20 -  30.0s[CV] ..... n_estimators=300, max_depth=5, min_samples_leaf=20 - 1.0min[CV] ..... n_estimators=100, max_depth=5, min_samples_leaf=20 -  30.5s[CV] ..... n_estimators=300, max_depth=5, min_samples_leaf=20 - 1.0min\n",
      "\n",
      "\n",
      "\n",
      "[CV] n_estimators=100, max_depth=5, min_samples_leaf=20 ..............[CV] n_estimators=300, max_depth=5, min_samples_leaf=20 ..............[CV] n_estimators=100, max_depth=5, min_samples_leaf=20 ..............[CV] n_estimators=300, max_depth=5, min_samples_leaf=20 ..............\n",
      "\n",
      "\n",
      "\n",
      "[CV] ..... n_estimators=100, max_depth=5, min_samples_leaf=20 -  25.6s[CV] ..... n_estimators=300, max_depth=5, min_samples_leaf=20 -  54.9s[CV] ..... n_estimators=100, max_depth=5, min_samples_leaf=20 -  25.7s[CV] ..... n_estimators=300, max_depth=5, min_samples_leaf=20 -  54.6s\n",
      "\n",
      "\n",
      "\n",
      "[CV] n_estimators=200, max_depth=5, min_samples_leaf=20 ..............[CV] n_estimators=500, max_depth=5, min_samples_leaf=20 ..............[CV] n_estimators=200, max_depth=5, min_samples_leaf=20 ..............[CV] n_estimators=500, max_depth=5, min_samples_leaf=20 ..............\n",
      "\n",
      "\n",
      "\n",
      "[CV] ..... n_estimators=200, max_depth=5, min_samples_leaf=20 -  45.1s[CV] ..... n_estimators=500, max_depth=5, min_samples_leaf=20 - 1.6min[CV] ..... n_estimators=200, max_depth=5, min_samples_leaf=20 -  47.1s[CV] ..... n_estimators=500, max_depth=5, min_samples_leaf=20 - 1.6min\n",
      "\n",
      "\n",
      "\n",
      "[CV] n_estimators=200, max_depth=5, min_samples_leaf=20 ..............[CV] n_estimators=500, max_depth=5, min_samples_leaf=20 ..............[CV] n_estimators=200, max_depth=5, min_samples_leaf=20 ..............[CV] n_estimators=500, max_depth=5, min_samples_leaf=20 ..............\n",
      "\n",
      "\n",
      "\n",
      "[CV] ..... n_estimators=200, max_depth=5, min_samples_leaf=20 -  41.0s[CV] ..... n_estimators=500, max_depth=5, min_samples_leaf=20 - 1.6min[CV] ..... n_estimators=200, max_depth=5, min_samples_leaf=20 -  42.7s[CV] ..... n_estimators=500, max_depth=5, min_samples_leaf=20 - 1.6min\n",
      "\n",
      "\n",
      "\n",
      "[CV] n_estimators=200, max_depth=5, min_samples_leaf=20 ..............[CV] n_estimators=700, max_depth=5, min_samples_leaf=20 ..............[CV] n_estimators=200, max_depth=5, min_samples_leaf=20 ..............[CV] n_estimators=700, max_depth=5, min_samples_leaf=20 ..............\n",
      "\n",
      "\n",
      "\n",
      "[CV] ..... n_estimators=200, max_depth=5, min_samples_leaf=20 -  50.3s[CV] ..... n_estimators=700, max_depth=5, min_samples_leaf=20 - 2.3min[CV] ..... n_estimators=200, max_depth=5, min_samples_leaf=20 -  50.6s[CV] ..... n_estimators=700, max_depth=5, min_samples_leaf=20 - 2.2min\n",
      "\n",
      "\n",
      "\n",
      "[CV] n_estimators=300, max_depth=5, min_samples_leaf=20 ..............[CV] n_estimators=700, max_depth=5, min_samples_leaf=20 ..............[CV] n_estimators=300, max_depth=5, min_samples_leaf=20 ..............[CV] n_estimators=700, max_depth=5, min_samples_leaf=20 ..............\n",
      "\n",
      "\n",
      "\n",
      "[CV] ..... n_estimators=300, max_depth=5, min_samples_leaf=20 -  53.8s[CV] ..... n_estimators=700, max_depth=5, min_samples_leaf=20 - 2.3min[CV] ..... n_estimators=300, max_depth=5, min_samples_leaf=20 -  53.7s[CV] ..... n_estimators=700, max_depth=5, min_samples_leaf=20 - 2.3min\n",
      "\n",
      "\n",
      "\n",
      "[CV] n_estimators=300, max_depth=5, min_samples_leaf=20 ..............[CV] n_estimators=700, max_depth=5, min_samples_leaf=20 ..............[CV] n_estimators=300, max_depth=5, min_samples_leaf=20 ..............[CV] n_estimators=700, max_depth=5, min_samples_leaf=20 ..............\n",
      "\n",
      "\n",
      "\n",
      "[CV] ..... n_estimators=300, max_depth=5, min_samples_leaf=20 - 1.0min[CV] ..... n_estimators=700, max_depth=5, min_samples_leaf=20 - 2.2min[CV] ..... n_estimators=300, max_depth=5, min_samples_leaf=20 -  60.0s[CV] ..... n_estimators=700, max_depth=5, min_samples_leaf=20 - 2.3min\n",
      "\n",
      "\n",
      "\n",
      "[CV] n_estimators=500, max_depth=5, min_samples_leaf=20 ..............[CV] n_estimators=1000, max_depth=5, min_samples_leaf=20 .............[CV] n_estimators=500, max_depth=5, min_samples_leaf=20 ..............[CV] n_estimators=1000, max_depth=5, min_samples_leaf=20 .............\n",
      "\n",
      "\n",
      "\n",
      "[CV] ..... n_estimators=500, max_depth=5, min_samples_leaf=20 - 1.4min[CV] ..... n_estimators=500, max_depth=5, min_samples_leaf=20 - 1.4min\n",
      "\n",
      "[CV] n_estimators=500, max_depth=5, min_samples_leaf=20 ..............[CV] n_estimators=500, max_depth=5, min_samples_leaf=20 ..............\n",
      "\n",
      "[CV] ..... n_estimators=500, max_depth=5, min_samples_leaf=20 - 1.8min[CV] ..... n_estimators=500, max_depth=5, min_samples_leaf=20 - 1.7min\n",
      "\n",
      "[CV] n_estimators=500, max_depth=5, min_samples_leaf=20 ..............[CV] n_estimators=500, max_depth=5, min_samples_leaf=20 ..............\n",
      "\n",
      "[CV] ..... n_estimators=500, max_depth=5, min_samples_leaf=20 - 1.4min[CV] ..... n_estimators=500, max_depth=5, min_samples_leaf=20 - 1.5min\n",
      "\n",
      "[CV] n_estimators=700, max_depth=5, min_samples_leaf=20 ..............[CV] n_estimators=700, max_depth=5, min_samples_leaf=20 ..............\n",
      "\n",
      "[CV] ..... n_estimators=700, max_depth=5, min_samples_leaf=20 - 2.4min[CV] ..... n_estimators=700, max_depth=5, min_samples_leaf=20 - 2.4min\n",
      "\n",
      "[CV] n_estimators=700, max_depth=5, min_samples_leaf=20 ..............[CV] n_estimators=700, max_depth=5, min_samples_leaf=20 ..............\n",
      "\n",
      "[CV] ..... n_estimators=700, max_depth=5, min_samples_leaf=20 - 2.2min[CV] ..... n_estimators=700, max_depth=5, min_samples_leaf=20 - 2.1min\n",
      "\n",
      "[CV] n_estimators=1000, max_depth=5, min_samples_leaf=20 .............[CV] n_estimators=1000, max_depth=5, min_samples_leaf=20 .............\n",
      "\n",
      "[CV] .... n_estimators=1000, max_depth=5, min_samples_leaf=20 - 3.4min[CV] .... n_estimators=1000, max_depth=5, min_samples_leaf=20 - 3.3min\n",
      "\n",
      "[CV] n_estimators=1000, max_depth=5, min_samples_leaf=20 .............[CV] n_estimators=1000, max_depth=5, min_samples_leaf=20 .............\n",
      "\n"
     ]
    }
   ],
   "source": [
    "from sklearn.ensemble import RandomForestClassifier\n",
    "rf = RandomForestClassifier()\n",
    "parameters = {'n_estimators': [100, 200, 300, 500, 700, 1000],'max_depth':[5,10,15],'min_samples_leaf':[10,20]}\n",
    "model_cv_grid = grid_search.GridSearchCV(rf,parameters,scoring='roc_auc',verbose=2,n_jobs=-1, cv =10)\n",
    "model_cv_grid.fit(X_train,y_train)\n",
    "best_rf_model = model_cv_grid.best_estimator_"
   ]
  },
  {
   "cell_type": "code",
   "execution_count": null,
   "metadata": {
    "collapsed": true
   },
   "outputs": [],
   "source": []
  }
 ],
 "metadata": {
  "kernelspec": {
   "display_name": "Python 3",
   "language": "python",
   "name": "python3"
  },
  "language_info": {
   "codemirror_mode": {
    "name": "ipython",
    "version": 3
   },
   "file_extension": ".py",
   "mimetype": "text/x-python",
   "name": "python",
   "nbconvert_exporter": "python",
   "pygments_lexer": "ipython3",
   "version": "3.4.5"
  }
 },
 "nbformat": 4,
 "nbformat_minor": 0
}
